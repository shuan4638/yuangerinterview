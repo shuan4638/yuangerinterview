{
 "cells": [
  {
   "cell_type": "code",
   "execution_count": 1,
   "metadata": {},
   "outputs": [],
   "source": [
    "import numpy as np\n",
    "\n",
    "class reader:\n",
    "    def __init__(self, K):\n",
    "        self.bookshelf = {}\n",
    "        self.unread_book = []\n",
    "        self.read_book = []\n",
    "        self.K = K\n",
    "    \n",
    "    def buy(self, day, point):\n",
    "        self.bookshelf[day] = point\n",
    "        self.read_book.append(day)\n",
    "        print (point)\n",
    "        return \n",
    "    \n",
    "    def update(self, day):\n",
    "        if day+1 > self.K:\n",
    "            self.read_book = self.read_book[-K:]\n",
    "            self.unread_book = [book for book in self.bookshelf.keys() if book not in self.read_book]\n",
    "\n",
    "    def read(self):\n",
    "        unread_points = [self.bookshelf[day] for day in self.unread_book]\n",
    "        best_book = max(unread_points)\n",
    "        best_book_day = self.unread_book[np.argmax(unread_points)]\n",
    "        self.read_book.append(best_book_day)\n",
    "        print (best_book)\n",
    "        return"
   ]
  },
  {
   "cell_type": "code",
   "execution_count": 3,
   "metadata": {},
   "outputs": [
    {
     "name": "stdout",
     "output_type": "stream",
     "text": [
      "100\n",
      "100\n",
      "100\n",
      "100\n",
      "99\n",
      "100\n",
      "100\n",
      "100\n",
      "99\n",
      "98\n",
      "100\n",
      "100\n"
     ]
    }
   ],
   "source": [
    "actions = []\n",
    "with open('question2.txt', 'r') as fh:\n",
    "    for i,line in enumerate(fh):\n",
    "        if i == 0:\n",
    "            n = line.split(' ')[0]\n",
    "            K = line.split(' ')[1]\n",
    "        else:\n",
    "            action = line.split(' ')\n",
    "            if len(action) == 2:\n",
    "                action = (action[0], int(action[1]))\n",
    "            actions.append(action)\n",
    "        \n",
    "n, K = int(n), int(K)\n",
    "man = reader(K)\n",
    "\n",
    "for day in range(n):\n",
    "    action = actions[day]\n",
    "    if action[0] == 'buy':\n",
    "        man.buy(day, action[1])\n",
    "    else:\n",
    "        man.read()\n",
    "    man.update(day)"
   ]
  },
  {
   "cell_type": "code",
   "execution_count": null,
   "metadata": {},
   "outputs": [],
   "source": []
  }
 ],
 "metadata": {
  "kernelspec": {
   "display_name": "Python 3",
   "language": "python",
   "name": "python3"
  },
  "language_info": {
   "codemirror_mode": {
    "name": "ipython",
    "version": 3
   },
   "file_extension": ".py",
   "mimetype": "text/x-python",
   "name": "python",
   "nbconvert_exporter": "python",
   "pygments_lexer": "ipython3",
   "version": "3.7.6"
  }
 },
 "nbformat": 4,
 "nbformat_minor": 4
}
